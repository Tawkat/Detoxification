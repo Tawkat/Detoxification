{
 "cells": [
  {
   "cell_type": "code",
   "execution_count": 4,
   "id": "f1ca4c2e-c8a4-4c65-bcf2-2648430ae7bb",
   "metadata": {},
   "outputs": [
    {
     "name": "stdout",
     "output_type": "stream",
     "text": [
      "148100\n"
     ]
    }
   ],
   "source": [
    "import pandas as pd\n",
    "\n",
    "df = pd.read_csv(\"Datasets/All_Datasets/NEW_All_dataset_2.csv\")\n",
    "\n",
    "#df.head()\n",
    "print(len(df['id']))"
   ]
  },
  {
   "cell_type": "code",
   "execution_count": 2,
   "id": "fc1163d9-fc98-4df8-9a81-5d862ab88f63",
   "metadata": {},
   "outputs": [],
   "source": [
    "import os\n",
    "\n",
    "file_list = os.listdir('Generated_Data/DataFrame')\n",
    "\n",
    "for file in file_list:\n",
    "    if(not file.endswith('.csv')):\n",
    "        continue\n",
    "    id_list = pd.read_csv(f'Generated_Data/DataFrame/{file}')['data_id'].tolist()\n",
    "    df = df[df['id'].isin(id_list)==False]\n",
    "\n",
    "df.to_csv(\"Datasets/All_Datasets/NEW_All_dataset_2.csv\", index=False)"
   ]
  },
  {
   "cell_type": "code",
   "execution_count": 10,
   "id": "78895c14-7490-4949-96e3-544f4858abcc",
   "metadata": {},
   "outputs": [
    {
     "name": "stdout",
     "output_type": "stream",
     "text": [
      "False\n"
     ]
    }
   ],
   "source": [
    "data_id = df['id'].tolist()\n",
    "\n",
    "print('0' in data_id)"
   ]
  },
  {
   "cell_type": "code",
   "execution_count": 11,
   "id": "a88614d5-241c-4558-82b0-d5f4f4387f9f",
   "metadata": {},
   "outputs": [
    {
     "data": {
      "text/html": [
       "<div>\n",
       "<style scoped>\n",
       "    .dataframe tbody tr th:only-of-type {\n",
       "        vertical-align: middle;\n",
       "    }\n",
       "\n",
       "    .dataframe tbody tr th {\n",
       "        vertical-align: top;\n",
       "    }\n",
       "\n",
       "    .dataframe thead th {\n",
       "        text-align: right;\n",
       "    }\n",
       "</style>\n",
       "<table border=\"1\" class=\"dataframe\">\n",
       "  <thead>\n",
       "    <tr style=\"text-align: right;\">\n",
       "      <th></th>\n",
       "      <th>id</th>\n",
       "      <th>text</th>\n",
       "      <th>labels</th>\n",
       "      <th>binary_labels</th>\n",
       "      <th>source</th>\n",
       "      <th>file_platform</th>\n",
       "    </tr>\n",
       "  </thead>\n",
       "  <tbody>\n",
       "    <tr>\n",
       "      <th>0</th>\n",
       "      <td>0</td>\n",
       "      <td>@SoniaKruger you daft, heartless twat. Do you ...</td>\n",
       "      <td>['gender_twat']</td>\n",
       "      <td>1</td>\n",
       "      <td>EN_combined_binary.csv</td>\n",
       "      <td>twitter</td>\n",
       "    </tr>\n",
       "    <tr>\n",
       "      <th>1</th>\n",
       "      <td>1</td>\n",
       "      <td>Wake up with the elephants | Life-changing vol...</td>\n",
       "      <td>['normal']</td>\n",
       "      <td>0</td>\n",
       "      <td>EN_combined_binary.csv</td>\n",
       "      <td>twitter</td>\n",
       "    </tr>\n",
       "    <tr>\n",
       "      <th>2</th>\n",
       "      <td>2</td>\n",
       "      <td>AH HAAHHAHAHAH YAAA BITCH YAAAA!@!!!!!!AH HAAH...</td>\n",
       "      <td>['toxic']</td>\n",
       "      <td>1</td>\n",
       "      <td>EN_combined_binary.csv</td>\n",
       "      <td>wikipedia</td>\n",
       "    </tr>\n",
       "    <tr>\n",
       "      <th>3</th>\n",
       "      <td>3</td>\n",
       "      <td>Disabled people like you are justpathetic.</td>\n",
       "      <td>hateful</td>\n",
       "      <td>1</td>\n",
       "      <td>combined_binary_en_HateCheck.csv</td>\n",
       "      <td>hatecheck</td>\n",
       "    </tr>\n",
       "    <tr>\n",
       "      <th>4</th>\n",
       "      <td>4</td>\n",
       "      <td>== A message from  ==    F u ck you hoe</td>\n",
       "      <td>['toxic']</td>\n",
       "      <td>1</td>\n",
       "      <td>EN_combined_binary.csv</td>\n",
       "      <td>wikipedia</td>\n",
       "    </tr>\n",
       "  </tbody>\n",
       "</table>\n",
       "</div>"
      ],
      "text/plain": [
       "   id                                               text           labels  \\\n",
       "0   0  @SoniaKruger you daft, heartless twat. Do you ...  ['gender_twat']   \n",
       "1   1  Wake up with the elephants | Life-changing vol...       ['normal']   \n",
       "2   2  AH HAAHHAHAHAH YAAA BITCH YAAAA!@!!!!!!AH HAAH...        ['toxic']   \n",
       "3   3        Disabled people like you are justpathetic.           hateful   \n",
       "4   4        == A message from  ==    F u ck you hoe            ['toxic']   \n",
       "\n",
       "   binary_labels                            source file_platform  \n",
       "0              1            EN_combined_binary.csv       twitter  \n",
       "1              0            EN_combined_binary.csv       twitter  \n",
       "2              1            EN_combined_binary.csv     wikipedia  \n",
       "3              1  combined_binary_en_HateCheck.csv     hatecheck  \n",
       "4              1            EN_combined_binary.csv     wikipedia  "
      ]
     },
     "execution_count": 11,
     "metadata": {},
     "output_type": "execute_result"
    }
   ],
   "source": [
    "df.head()"
   ]
  },
  {
   "cell_type": "code",
   "execution_count": null,
   "id": "7290a179-5096-4646-aa76-e3e78a64f8db",
   "metadata": {},
   "outputs": [],
   "source": []
  }
 ],
 "metadata": {
  "kernelspec": {
   "display_name": "Python 3 (ipykernel)",
   "language": "python",
   "name": "python3"
  },
  "language_info": {
   "codemirror_mode": {
    "name": "ipython",
    "version": 3
   },
   "file_extension": ".py",
   "mimetype": "text/x-python",
   "name": "python",
   "nbconvert_exporter": "python",
   "pygments_lexer": "ipython3",
   "version": "3.8.10"
  }
 },
 "nbformat": 4,
 "nbformat_minor": 5
}
