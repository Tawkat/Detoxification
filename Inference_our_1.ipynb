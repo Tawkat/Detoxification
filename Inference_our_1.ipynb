{
 "cells": [
  {
   "cell_type": "code",
   "execution_count": null,
   "id": "1f90a56b-20bc-4f22-b0b7-d8f1cbb72acb",
   "metadata": {},
   "outputs": [],
   "source": [
    "!./interactive_train-jasmine.sh"
   ]
  },
  {
   "cell_type": "code",
   "execution_count": 16,
   "id": "49d158f1-005a-48d9-9b7a-01e398aeb643",
   "metadata": {},
   "outputs": [],
   "source": [
    "from transformers import AutoModelForCausalLM, pipeline\n",
    "\n",
    "#model = AutoModelForCausalLM.from_pretrained(\"Output_Dir/Testing_1/gpt2\")\n",
    "\n",
    "generator = pipeline('text-generation', model=\"Output_Dir/Testing_1/gpt2\", tokenizer = \"Output_Dir/Testing_1/gpt2\", use_fast = False)# device_map='auto')"
   ]
  },
  {
   "cell_type": "code",
   "execution_count": 2,
   "id": "1cd45669-59f9-4976-a3bc-25e2ff25a1a7",
   "metadata": {},
   "outputs": [],
   "source": [
    "from transformers import AutoTokenizer, AutoModelForCausalLM, LlamaTokenizer, LlamaForCausalLM\n",
    "\n",
    "path = \"Output_Dir/No_Expl_LLama_Chat_7b_1/Llama-2-7b-chat-hf/checkpoint-116\"\n",
    "\n",
    "tokenizer = LlamaTokenizer.from_pretrained(path)\n",
    "model = LlamaForCausalLM.from_pretrained(path)"
   ]
  },
  {
   "cell_type": "code",
   "execution_count": 3,
   "id": "4fff98d2-0847-4805-8cf9-661f317e56e5",
   "metadata": {},
   "outputs": [
    {
     "name": "stderr",
     "output_type": "stream",
     "text": [
      "A matching Triton is not available, some optimizations will not be enabled.\n",
      "Error caught was: No module named 'triton'\n"
     ]
    }
   ],
   "source": [
    "from transformers import AutoModelForCausalLM, pipeline\n",
    "\n",
    "#model = AutoModelForCausalLM.from_pretrained(\"Output_Dir/Testing_1/gpt2\")\n",
    "\n",
    "generator = pipeline('text-generation', model=model, tokenizer = tokenizer, device = 0) #use_fast = False)# device_map='auto')"
   ]
  },
  {
   "cell_type": "code",
   "execution_count": null,
   "id": "e04a9c7c-94cc-4fc2-ad80-54b061a5be3f",
   "metadata": {},
   "outputs": [],
   "source": [
    "prompt = \"Rewrite the following toxic input into non-toxic version. Let's break the input down step by step to rewrite the non-toxic version. You should first think about the expanation of why the input text is toxic. Then generate the detoxic output. You must preserve the original meaning as much as possible.\\nInput: \"\n",
    "inp = \"2. \\tFucking THIS.  Too many retards on this sub demand that Gab stand purely on principle when its their future on the line. I can guarantee nobody here would have the balls to do it either.\"\n",
    "prompt = prompt+inp+\"\\n\"\n",
    "res = generator(prompt)\n",
    "print(res[0]['generated_text'])"
   ]
  },
  {
   "cell_type": "code",
   "execution_count": 4,
   "id": "b271b7fe-f019-43b9-821d-0175ef27e6e1",
   "metadata": {},
   "outputs": [],
   "source": [
    "import pandas as pd\n",
    "\n",
    "test_file = 'Datasets/Toxicity_All_Platform_3K/test/test_All_Platform_3K.csv'\n",
    "df_test = pd.read_csv(test_file)\n",
    "\n",
    "def process(text):\n",
    "    #prompt = \"Rewrite the following toxic input into non-toxic version. Let's break the input down step by step to rewrite the non-toxic version. You should first think about the expanation of why the input text is toxic. Then generate the detoxic output. You must preserve the original meaning as much as possible.\\nInput: \"\n",
    "    prompt = \"Rewrite the following toxic input into non-toxic version. You must preserve the original meaning as much as possible.\\n Input: \"\n",
    "    text = prompt+text+\"\\n\"\n",
    "    return text\n",
    "\n",
    "df_test['input'] = df_test['toxic'].apply(process)\n",
    "    \n"
   ]
  },
  {
   "cell_type": "code",
   "execution_count": 8,
   "id": "2276c426-7f3b-4162-8e98-da60010c32fe",
   "metadata": {},
   "outputs": [
    {
     "data": {
      "text/plain": [
       "\"Rewrite the following toxic input into non-toxic version. Let's break the input down step by step to rewrite the non-toxic version. You should first think about the expanation of why the input text is toxic. Then generate the detoxic output. You must preserve the original meaning as much as possible.\\nInput: how the hell did we manage to fucking disappoint the goddamn overrated mike posner band like this? i'm so fucking ashamed and utterly humiliated. https://t.co/XQdWqEBVau\\n\""
      ]
     },
     "execution_count": 8,
     "metadata": {},
     "output_type": "execute_result"
    }
   ],
   "source": [
    "df_test['input'][1]"
   ]
  },
  {
   "cell_type": "code",
   "execution_count": null,
   "id": "5dd0a800-fce0-4c0f-a6ea-f904489599c3",
   "metadata": {},
   "outputs": [],
   "source": [
    "gen_list = generator(df_test['input'].tolist(), max_new_tokens=256) ### 512"
   ]
  },
  {
   "cell_type": "code",
   "execution_count": null,
   "id": "702e36c5-8820-47d4-b89a-87a8ba153dac",
   "metadata": {},
   "outputs": [],
   "source": [
    "print(gen_list[0][0]['generated_text'])"
   ]
  },
  {
   "cell_type": "code",
   "execution_count": null,
   "id": "76c3f07c-096e-4ed0-bfe4-fc4204ee87d7",
   "metadata": {},
   "outputs": [],
   "source": [
    "def get_detox_expl(text):\n",
    "    detox_list = text.split('Detoxification:')\n",
    "    if(len(detox_list)==1):\n",
    "        return '',''\n",
    "    detox = detox_list[1].strip()\n",
    "    expl = detox_list[0].split('Explanation:')[-1].strip()\n",
    "    return detox, expl"
   ]
  },
  {
   "cell_type": "code",
   "execution_count": null,
   "id": "66c1dadd-2b9a-48ca-a5f9-46a950759413",
   "metadata": {},
   "outputs": [],
   "source": [
    "predictions = []\n",
    "pred_explanations = []\n",
    "\n",
    "for i,gen in enumerate(gen_list):\n",
    "    #print(gen[0])\n",
    "    #try:\n",
    "    pred, expl = get_detox_expl(gen[0]['generated_text'])\n",
    "    predictions.append(pred)\n",
    "    pred_explanations.append(expl)\n",
    "    '''except:\n",
    "        print(i)\n",
    "        print(gen[0]['generated_text'])\n",
    "        print(\"******\")'''\n",
    "\n",
    "sources = df_test['toxic'].tolist()\n",
    "references = df_test['non_toxic'].tolist()\n",
    "ref_explanations = df_test['explanation'].tolist()\n"
   ]
  },
  {
   "cell_type": "code",
   "execution_count": null,
   "id": "26686492-fb4b-4a25-9edc-e779d02c95d1",
   "metadata": {},
   "outputs": [],
   "source": [
    "import os\n",
    "import json\n",
    "\n",
    "output_prediction_file = os.path.join(path, \"Xplatform_generated_predictions.jsonl\")\n",
    "\n",
    "with open(output_prediction_file, \"w\") as writer:             \n",
    "    for src, ref, pred, pred_expl, ref_expl in zip(sources, references, predictions, pred_explanations, ref_explanations):\n",
    "        output = {\n",
    "            'source': src,\n",
    "            'reference': ref,\n",
    "            'prediction': pred,\n",
    "            'predicted_explanation': pred_expl,\n",
    "            'ChatGPT_explanation': ref_expl,\n",
    "        }\n",
    "        json.dump(output, writer)\n",
    "        #writer.write(\"REFERENCES: \"+str(ref))\n",
    "        #writer.write(\"\\nPREDICTION: \"+str(pred))\n",
    "        writer.write(\"\\n\")"
   ]
  },
  {
   "cell_type": "code",
   "execution_count": null,
   "id": "b02d2a28-ccd7-4da9-a793-248f4a72c4b7",
   "metadata": {},
   "outputs": [],
   "source": [
    "import pandas as pd\n",
    "\n",
    "df_predicted = pd.read_json(output_prediction_file, lines=True)\n",
    "\n",
    "df_predicted['index'] = df_predicted.index\n",
    "\n",
    "df_predicted.to_excel(f'{path}/Xplatform_generated_predictions.xlsx', index=False)"
   ]
  },
  {
   "cell_type": "code",
   "execution_count": 1,
   "id": "206c9aa1-9bbd-4feb-94d2-d3b6de1389b9",
   "metadata": {},
   "outputs": [
    {
     "name": "stdout",
     "output_type": "stream",
     "text": [
      "/lustre07/scratch/tawkat/FT_Abusive/Output_Dir/LLama_Chat_7b_2/Llama-2-7b-chat-hf/checkpoint-116\n"
     ]
    }
   ],
   "source": [
    "cd \"Output_Dir/No_Expl_LLama_Chat_7b_1/Llama-2-7b-chat-hf/checkpoint-116\""
   ]
  },
  {
   "cell_type": "code",
   "execution_count": 2,
   "id": "4fc18a1c-ac69-4061-b8b6-d382a9c0d956",
   "metadata": {},
   "outputs": [
    {
     "name": "stdout",
     "output_type": "stream",
     "text": [
      "[2023-08-04 16:10:46,446] [INFO] [real_accelerator.py:110:get_accelerator] Setting ds_accelerator to cuda (auto detect)\n",
      "\n",
      "===================================BUG REPORT===================================\n",
      "Welcome to bitsandbytes. For bug reports, please run\n",
      "\n",
      "python -m bitsandbytes\n",
      "\n",
      " and submit this information together with your error trace to: https://github.com/TimDettmers/bitsandbytes/issues\n",
      "================================================================================\n",
      "bin /home/tawkat/ENV_1/lib/python3.8/site-packages/bitsandbytes/libbitsandbytes_cuda114.so\n",
      "/home/tawkat/ENV_1/lib/python3.8/site-packages/bitsandbytes/cuda_setup/main.py:145: UserWarning: WARNING: The following directories listed in your path were found to be non-existent: {PosixPath('/tmp/tawkat')}\n",
      "  warn(msg)\n",
      "/home/tawkat/ENV_1/lib/python3.8/site-packages/bitsandbytes/cuda_setup/main.py:145: UserWarning: WARNING: The following directories listed in your path were found to be non-existent: {PosixPath('-10')}\n",
      "  warn(msg)\n",
      "/home/tawkat/ENV_1/lib/python3.8/site-packages/bitsandbytes/cuda_setup/main.py:145: UserWarning: WARNING: The following directories listed in your path were found to be non-existent: {PosixPath('/tmp/sshauth.OT1QlVJkxgaHbD0')}\n",
      "  warn(msg)\n",
      "/home/tawkat/ENV_1/lib/python3.8/site-packages/bitsandbytes/cuda_setup/main.py:145: UserWarning: WARNING: The following directories listed in your path were found to be non-existent: {PosixPath('1;/cvmfs/soft.computecanada.ca/easybuild/modules/2020/avx2/Compiler/gcc9'), PosixPath('1;/cvmfs/soft.computecanada.ca/easybuild/modules/2020/avx2/Core'), PosixPath('1;/cvmfs/soft.computecanada.ca/custom/modules'), PosixPath('1;/home/tawkat/.local/easybuild/modules/2020/avx2/Core'), PosixPath('1;/cvmfs/soft.computecanada.ca/easybuild/modules/2020/avx2/MPI/gcc9/cuda11.4/openmpi4'), PosixPath('1;/cvmfs/soft.computecanada.ca/easybuild/modules/2020/Core'), PosixPath('1;/cvmfs/soft.computecanada.ca/easybuild/modules/2020/CUDA/cuda11.4'), PosixPath('1;/cvmfs/soft.computecanada.ca/easybuild/modules/2020/avx2/CUDA/cuda11.4'), PosixPath('1'), PosixPath('1;/home/tawkat/.local/easybuild/modules/2020/Core'), PosixPath('1;/cvmfs/soft.computecanada.ca/easybuild/modules/2020/avx2/CUDA/gcc9/cuda11.4')}\n",
      "  warn(msg)\n",
      "/home/tawkat/ENV_1/lib/python3.8/site-packages/bitsandbytes/cuda_setup/main.py:145: UserWarning: WARNING: The following directories listed in your path were found to be non-existent: {PosixPath('//127.0.0.1'), PosixPath('34045'), PosixPath('pmix-server.3201670;tcp4')}\n",
      "  warn(msg)\n",
      "/home/tawkat/ENV_1/lib/python3.8/site-packages/bitsandbytes/cuda_setup/main.py:145: UserWarning: WARNING: The following directories listed in your path were found to be non-existent: {PosixPath('gentoo/2020'), PosixPath('cudacore/.11.4.2'), PosixPath('git-lfs/3.3.0'), PosixPath('libfabric/1.10.1'), PosixPath('blis/0.8.1'), PosixPath('python/3.8.10'), PosixPath('flexiblas/3.0.4'), PosixPath('mii/1.1.2'), PosixPath('imkl/2020.1.217'), PosixPath('openmpi/4.0.3'), PosixPath('pmix/3.1.5'), PosixPath('CCconfig'), PosixPath('libffi/3.3'), PosixPath('ffmpeg/4.3.2'), PosixPath('arrow/9.0.0'), PosixPath('gcc/9.3.0'), PosixPath('cuda/11.4'), PosixPath('gdrcopy/2.1'), PosixPath('ucx/1.8.0'), PosixPath('gcccore/.9.3.0'), PosixPath('StdEnv/2020')}\n",
      "  warn(msg)\n",
      "/home/tawkat/ENV_1/lib/python3.8/site-packages/bitsandbytes/cuda_setup/main.py:145: UserWarning: WARNING: The following directories listed in your path were found to be non-existent: {PosixPath('module'), PosixPath('//matplotlib_inline.backend_inline')}\n",
      "  warn(msg)\n",
      "/home/tawkat/ENV_1/lib/python3.8/site-packages/bitsandbytes/cuda_setup/main.py:145: UserWarning: WARNING: The following directories listed in your path were found to be non-existent: {PosixPath('/home/tawkat/.local/easybuild/modules/2020/Core'), PosixPath('/home/tawkat/.local/easybuild/modules/2020/avx2/Core')}\n",
      "  warn(msg)\n",
      "/home/tawkat/ENV_1/lib/python3.8/site-packages/bitsandbytes/cuda_setup/main.py:145: UserWarning: WARNING: The following directories listed in your path were found to be non-existent: {PosixPath('//debuginfod.centos.org/ '), PosixPath('https')}\n",
      "  warn(msg)\n",
      "/home/tawkat/ENV_1/lib/python3.8/site-packages/bitsandbytes/cuda_setup/main.py:145: UserWarning: WARNING: The following directories listed in your path were found to be non-existent: {PosixPath('() {  ( alias;\\n eval ${which_declare} ) | /usr/bin/which --tty-only --read-alias --read-functions --show-tilde --show-dot $@\\n}')}\n",
      "  warn(msg)\n",
      "/home/tawkat/ENV_1/lib/python3.8/site-packages/bitsandbytes/cuda_setup/main.py:145: UserWarning: WARNING: The following directories listed in your path were found to be non-existent: {PosixPath('() {  eval \"$($LMOD_DIR/ml_cmd \"$@\")\"\\n}')}\n",
      "  warn(msg)\n",
      "/home/tawkat/ENV_1/lib/python3.8/site-packages/bitsandbytes/cuda_setup/main.py:145: UserWarning: Found duplicate ['libcudart.so', 'libcudart.so.11.0', 'libcudart.so.12.0'] files: {PosixPath('/cvmfs/soft.computecanada.ca/easybuild/software/2020/Core/cudacore/11.4.2/lib/libcudart.so'), PosixPath('/cvmfs/soft.computecanada.ca/easybuild/software/2020/Core/cudacore/11.4.2/lib/libcudart.so.11.0')}.. We'll flip a coin and try one of these, in order to fail forward.\n",
      "Either way, this might cause trouble in the future:\n",
      "If you get `CUDA error: invalid device function` errors, the above might be the cause and the solution is to make sure only one ['libcudart.so', 'libcudart.so.11.0', 'libcudart.so.12.0'] in the paths that we search based on your env.\n",
      "  warn(msg)\n",
      "CUDA SETUP: CUDA runtime path found: /cvmfs/soft.computecanada.ca/easybuild/software/2020/Core/cudacore/11.4.2/lib/libcudart.so\n",
      "CUDA SETUP: Highest compute capability among GPUs detected: 8.0\n",
      "CUDA SETUP: Detected CUDA version 114\n",
      "CUDA SETUP: Loading binary /home/tawkat/ENV_1/lib/python3.8/site-packages/bitsandbytes/libbitsandbytes_cuda114.so...\n",
      "Processing zero checkpoint './global_step116'\n",
      "Detected checkpoint of type zero stage 3, world_size: 4\n",
      "Parsing checkpoint created by deepspeed==0.9.5\n",
      "Reconstructed Trainable fp32 state dict with 291 params 6738423808 elements\n",
      "Saving fp32 state dict to pytorch_model.bin\n"
     ]
    }
   ],
   "source": [
    "!python ./zero_to_fp32.py . pytorch_model.bin"
   ]
  },
  {
   "cell_type": "code",
   "execution_count": null,
   "id": "93143cbb-ea1c-4da5-84a6-2f535a5a2dae",
   "metadata": {},
   "outputs": [],
   "source": []
  }
 ],
 "metadata": {
  "kernelspec": {
   "display_name": "Python 3 (ipykernel)",
   "language": "python",
   "name": "python3"
  },
  "language_info": {
   "codemirror_mode": {
    "name": "ipython",
    "version": 3
   },
   "file_extension": ".py",
   "mimetype": "text/x-python",
   "name": "python",
   "nbconvert_exporter": "python",
   "pygments_lexer": "ipython3",
   "version": "3.8.10"
  }
 },
 "nbformat": 4,
 "nbformat_minor": 5
}
