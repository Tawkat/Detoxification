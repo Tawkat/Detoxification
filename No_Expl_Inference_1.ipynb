{
 "cells": [
  {
   "cell_type": "code",
   "execution_count": null,
   "id": "1f90a56b-20bc-4f22-b0b7-d8f1cbb72acb",
   "metadata": {},
   "outputs": [],
   "source": [
    "!./interactive_train-jasmine.sh"
   ]
  },
  {
   "cell_type": "code",
   "execution_count": 16,
   "id": "49d158f1-005a-48d9-9b7a-01e398aeb643",
   "metadata": {},
   "outputs": [],
   "source": [
    "from transformers import AutoModelForCausalLM, pipeline\n",
    "\n",
    "#model = AutoModelForCausalLM.from_pretrained(\"Output_Dir/Testing_1/gpt2\")\n",
    "\n",
    "generator = pipeline('text-generation', model=\"Output_Dir/Testing_1/gpt2\", tokenizer = \"Output_Dir/Testing_1/gpt2\", use_fast = False)# device_map='auto')"
   ]
  },
  {
   "cell_type": "code",
   "execution_count": 1,
   "id": "1cd45669-59f9-4976-a3bc-25e2ff25a1a7",
   "metadata": {},
   "outputs": [
    {
     "name": "stdout",
     "output_type": "stream",
     "text": [
      "\n",
      "===================================BUG REPORT===================================\n",
      "Welcome to bitsandbytes. For bug reports, please run\n",
      "\n",
      "python -m bitsandbytes\n",
      "\n",
      " and submit this information together with your error trace to: https://github.com/TimDettmers/bitsandbytes/issues\n",
      "================================================================================\n",
      "bin /home/tawkat/ENV_1/lib/python3.8/site-packages/bitsandbytes/libbitsandbytes_cuda114.so\n",
      "CUDA SETUP: CUDA runtime path found: /cvmfs/soft.computecanada.ca/easybuild/software/2020/Core/cudacore/11.4.2/lib/libcudart.so\n",
      "CUDA SETUP: Highest compute capability among GPUs detected: 8.0\n",
      "CUDA SETUP: Detected CUDA version 114\n",
      "CUDA SETUP: Loading binary /home/tawkat/ENV_1/lib/python3.8/site-packages/bitsandbytes/libbitsandbytes_cuda114.so...\n",
      "[2023-08-04 18:57:47,437] [INFO] [real_accelerator.py:110:get_accelerator] Setting ds_accelerator to cuda (auto detect)\n"
     ]
    },
    {
     "name": "stderr",
     "output_type": "stream",
     "text": [
      "/home/tawkat/ENV_1/lib/python3.8/site-packages/bitsandbytes/cuda_setup/main.py:145: UserWarning: WARNING: The following directories listed in your path were found to be non-existent: {PosixPath('/tmp/tawkat')}\n",
      "  warn(msg)\n",
      "/home/tawkat/ENV_1/lib/python3.8/site-packages/bitsandbytes/cuda_setup/main.py:145: UserWarning: WARNING: The following directories listed in your path were found to be non-existent: {PosixPath('-10')}\n",
      "  warn(msg)\n",
      "/home/tawkat/ENV_1/lib/python3.8/site-packages/bitsandbytes/cuda_setup/main.py:145: UserWarning: WARNING: The following directories listed in your path were found to be non-existent: {PosixPath('/tmp/sshauth.w0FiXbqmXADHzQX')}\n",
      "  warn(msg)\n",
      "/home/tawkat/ENV_1/lib/python3.8/site-packages/bitsandbytes/cuda_setup/main.py:145: UserWarning: WARNING: The following directories listed in your path were found to be non-existent: {PosixPath('1;/cvmfs/soft.computecanada.ca/easybuild/modules/2020/Core'), PosixPath('1;/home/tawkat/.local/easybuild/modules/2020/avx2/Core'), PosixPath('1;/cvmfs/soft.computecanada.ca/custom/modules'), PosixPath('1;/cvmfs/soft.computecanada.ca/easybuild/modules/2020/avx2/CUDA/cuda11.4'), PosixPath('1'), PosixPath('1;/cvmfs/soft.computecanada.ca/easybuild/modules/2020/avx2/Compiler/gcc9'), PosixPath('1;/cvmfs/soft.computecanada.ca/easybuild/modules/2020/avx2/MPI/gcc9/cuda11.4/openmpi4'), PosixPath('1;/cvmfs/soft.computecanada.ca/easybuild/modules/2020/CUDA/cuda11.4'), PosixPath('1;/home/tawkat/.local/easybuild/modules/2020/Core'), PosixPath('1;/cvmfs/soft.computecanada.ca/easybuild/modules/2020/avx2/CUDA/gcc9/cuda11.4'), PosixPath('1;/cvmfs/soft.computecanada.ca/easybuild/modules/2020/avx2/Core')}\n",
      "  warn(msg)\n",
      "/home/tawkat/ENV_1/lib/python3.8/site-packages/bitsandbytes/cuda_setup/main.py:145: UserWarning: WARNING: The following directories listed in your path were found to be non-existent: {PosixPath('//127.0.0.1'), PosixPath('pmix-server.1267072;tcp4'), PosixPath('43867')}\n",
      "  warn(msg)\n",
      "/home/tawkat/ENV_1/lib/python3.8/site-packages/bitsandbytes/cuda_setup/main.py:145: UserWarning: WARNING: The following directories listed in your path were found to be non-existent: {PosixPath('arrow/9.0.0'), PosixPath('gdrcopy/2.1'), PosixPath('libfabric/1.10.1'), PosixPath('mii/1.1.2'), PosixPath('gentoo/2020'), PosixPath('flexiblas/3.0.4'), PosixPath('StdEnv/2020'), PosixPath('gcccore/.9.3.0'), PosixPath('openmpi/4.0.3'), PosixPath('imkl/2020.1.217'), PosixPath('cuda/11.4'), PosixPath('ucx/1.8.0'), PosixPath('python/3.8.10'), PosixPath('pmix/3.1.5'), PosixPath('gcc/9.3.0'), PosixPath('ffmpeg/4.3.2'), PosixPath('git-lfs/3.3.0'), PosixPath('libffi/3.3'), PosixPath('blis/0.8.1'), PosixPath('CCconfig'), PosixPath('cudacore/.11.4.2')}\n",
      "  warn(msg)\n",
      "/home/tawkat/ENV_1/lib/python3.8/site-packages/bitsandbytes/cuda_setup/main.py:145: UserWarning: WARNING: The following directories listed in your path were found to be non-existent: {PosixPath('/home/tawkat/.local/easybuild/modules/2020/Core'), PosixPath('/home/tawkat/.local/easybuild/modules/2020/avx2/Core')}\n",
      "  warn(msg)\n",
      "/home/tawkat/ENV_1/lib/python3.8/site-packages/bitsandbytes/cuda_setup/main.py:145: UserWarning: WARNING: The following directories listed in your path were found to be non-existent: {PosixPath('https'), PosixPath('//debuginfod.centos.org/ ')}\n",
      "  warn(msg)\n",
      "/home/tawkat/ENV_1/lib/python3.8/site-packages/bitsandbytes/cuda_setup/main.py:145: UserWarning: WARNING: The following directories listed in your path were found to be non-existent: {PosixPath('() {  ( alias;\\n eval ${which_declare} ) | /usr/bin/which --tty-only --read-alias --read-functions --show-tilde --show-dot $@\\n}')}\n",
      "  warn(msg)\n",
      "/home/tawkat/ENV_1/lib/python3.8/site-packages/bitsandbytes/cuda_setup/main.py:145: UserWarning: WARNING: The following directories listed in your path were found to be non-existent: {PosixPath('() {  eval \"$($LMOD_DIR/ml_cmd \"$@\")\"\\n}')}\n",
      "  warn(msg)\n",
      "/home/tawkat/ENV_1/lib/python3.8/site-packages/bitsandbytes/cuda_setup/main.py:145: UserWarning: WARNING: The following directories listed in your path were found to be non-existent: {PosixPath('module'), PosixPath('//matplotlib_inline.backend_inline')}\n",
      "  warn(msg)\n",
      "/home/tawkat/ENV_1/lib/python3.8/site-packages/bitsandbytes/cuda_setup/main.py:145: UserWarning: Found duplicate ['libcudart.so', 'libcudart.so.11.0', 'libcudart.so.12.0'] files: {PosixPath('/cvmfs/soft.computecanada.ca/easybuild/software/2020/Core/cudacore/11.4.2/lib/libcudart.so'), PosixPath('/cvmfs/soft.computecanada.ca/easybuild/software/2020/Core/cudacore/11.4.2/lib/libcudart.so.11.0')}.. We'll flip a coin and try one of these, in order to fail forward.\n",
      "Either way, this might cause trouble in the future:\n",
      "If you get `CUDA error: invalid device function` errors, the above might be the cause and the solution is to make sure only one ['libcudart.so', 'libcudart.so.11.0', 'libcudart.so.12.0'] in the paths that we search based on your env.\n",
      "  warn(msg)\n",
      "normalizer.cc(51) LOG(INFO) precompiled_charsmap is empty. use identity normalization.\n"
     ]
    },
    {
     "data": {
      "application/vnd.jupyter.widget-view+json": {
       "model_id": "9cb11d4735364144a05051467d8479d7",
       "version_major": 2,
       "version_minor": 0
      },
      "text/plain": [
       "Loading checkpoint shards:   0%|          | 0/3 [00:00<?, ?it/s]"
      ]
     },
     "metadata": {},
     "output_type": "display_data"
    }
   ],
   "source": [
    "from transformers import AutoTokenizer, AutoModelForCausalLM, LlamaTokenizer, LlamaForCausalLM\n",
    "\n",
    "path = \"Output_Dir/No_Expl_LLama_Chat_7b_1/Llama-2-7b-chat-hf/checkpoint-58\"\n",
    "\n",
    "tokenizer = LlamaTokenizer.from_pretrained(path)\n",
    "model = LlamaForCausalLM.from_pretrained(path)"
   ]
  },
  {
   "cell_type": "code",
   "execution_count": 3,
   "id": "4fff98d2-0847-4805-8cf9-661f317e56e5",
   "metadata": {},
   "outputs": [
    {
     "name": "stderr",
     "output_type": "stream",
     "text": [
      "A matching Triton is not available, some optimizations will not be enabled.\n",
      "Error caught was: No module named 'triton'\n"
     ]
    }
   ],
   "source": [
    "from transformers import AutoModelForCausalLM, pipeline\n",
    "\n",
    "#model = AutoModelForCausalLM.from_pretrained(\"Output_Dir/Testing_1/gpt2\")\n",
    "\n",
    "generator = pipeline('text-generation', model=model, tokenizer = tokenizer, device = 0) #use_fast = False)# device_map='auto')"
   ]
  },
  {
   "cell_type": "code",
   "execution_count": 4,
   "id": "e04a9c7c-94cc-4fc2-ad80-54b061a5be3f",
   "metadata": {},
   "outputs": [
    {
     "name": "stderr",
     "output_type": "stream",
     "text": [
      "/home/tawkat/ENV_1/lib/python3.8/site-packages/transformers/generation/utils.py:1369: UserWarning: Using `max_length`'s default (4096) to control the generation length. This behaviour is deprecated and will be removed from the config in v5 of Transformers -- we recommend using `max_new_tokens` to control the maximum length of the generation.\n",
      "  warnings.warn(\n"
     ]
    },
    {
     "name": "stdout",
     "output_type": "stream",
     "text": [
      "Rewrite the following toxic input into non-toxic version. You must preserve the original meaning as much as possible.\n",
      " Input: 2. \tFucking THIS.  Too many retards on this sub demand that Gab stand purely on principle when its their future on the line. I can guarantee nobody here would have the balls to do it either.\n",
      "Detoxification: This is unacceptable. Too many individuals on this subreddit expect Gab to remain steadfast in their beliefs when their own future is at stake. I strongly believe that nobody here would have the courage to take such a stance either.\n"
     ]
    }
   ],
   "source": [
    "prompt = \"Rewrite the following toxic input into non-toxic version. You must preserve the original meaning as much as possible.\\n Input: \"\n",
    "inp = \"2. \\tFucking THIS.  Too many retards on this sub demand that Gab stand purely on principle when its their future on the line. I can guarantee nobody here would have the balls to do it either.\"\n",
    "prompt = prompt+inp+\"\\n\"\n",
    "res = generator(prompt)\n",
    "print(res[0]['generated_text'])"
   ]
  },
  {
   "cell_type": "code",
   "execution_count": 4,
   "id": "b271b7fe-f019-43b9-821d-0175ef27e6e1",
   "metadata": {},
   "outputs": [],
   "source": [
    "import pandas as pd\n",
    "\n",
    "test_file = 'Datasets/Toxicity_All_Platform_3K/test/test_All_Platform_3K.csv'\n",
    "#test_file = 'Datasets/ParaDetox/ParaDetox_test.csv'\n",
    "\n",
    "df_test = pd.read_csv(test_file)\n",
    "\n",
    "def process(text):\n",
    "    #prompt = \"Rewrite the following toxic input into non-toxic version. Let's break the input down step by step to rewrite the non-toxic version. You should first think about the expanation of why the input text is toxic. Then generate the detoxic output. You must preserve the original meaning as much as possible.\\nInput: \"\n",
    "    prompt = \"Rewrite the following toxic input into non-toxic version. You must preserve the original meaning as much as possible.\\n Input: \"\n",
    "    text = prompt+text+\"\\n\"\n",
    "    return text\n",
    "\n",
    "df_test['input'] = df_test['toxic'].apply(process)\n",
    "    \n"
   ]
  },
  {
   "cell_type": "code",
   "execution_count": 5,
   "id": "2276c426-7f3b-4162-8e98-da60010c32fe",
   "metadata": {},
   "outputs": [
    {
     "data": {
      "text/plain": [
       "\"Rewrite the following toxic input into non-toxic version. You must preserve the original meaning as much as possible.\\n Input: how the hell did we manage to fucking disappoint the goddamn overrated mike posner band like this? i'm so fucking ashamed and utterly humiliated. https://t.co/XQdWqEBVau\\n\""
      ]
     },
     "execution_count": 5,
     "metadata": {},
     "output_type": "execute_result"
    }
   ],
   "source": [
    "df_test['input'][1]"
   ]
  },
  {
   "cell_type": "code",
   "execution_count": 6,
   "id": "5dd0a800-fce0-4c0f-a6ea-f904489599c3",
   "metadata": {},
   "outputs": [],
   "source": [
    "gen_list = generator(df_test['input'].tolist(), max_new_tokens=256) ### 512"
   ]
  },
  {
   "cell_type": "code",
   "execution_count": 13,
   "id": "702e36c5-8820-47d4-b89a-87a8ba153dac",
   "metadata": {},
   "outputs": [
    {
     "name": "stdout",
     "output_type": "stream",
     "text": [
      "Rewrite the following toxic input into non-toxic version. You must preserve the original meaning as much as possible.\n",
      " Input: 2. \tFucking THIS.  Too many retards on this sub demand that Gab stand purely on principle when its their future on the line. I can guarantee nobody here would have the balls to do it either.\n",
      "Detoxification: This is completely correct. There are far too many individuals on this platform who advocate for Gab solely based on principle without considering the impact it would have on their own future. I can assure you that no one here would have the courage to do it either.\n"
     ]
    }
   ],
   "source": [
    "print(gen_list[4][0]['generated_text'])"
   ]
  },
  {
   "cell_type": "code",
   "execution_count": 8,
   "id": "76c3f07c-096e-4ed0-bfe4-fc4204ee87d7",
   "metadata": {},
   "outputs": [],
   "source": [
    "def get_detox(text):\n",
    "    detox_list = text.split('Detoxification:')\n",
    "    if(len(detox_list)==1):\n",
    "        return ''\n",
    "    detox = detox_list[-1].strip()\n",
    "    #expl = detox_list[0].split('Explanation:')[-1].strip()\n",
    "    return detox"
   ]
  },
  {
   "cell_type": "code",
   "execution_count": 9,
   "id": "66c1dadd-2b9a-48ca-a5f9-46a950759413",
   "metadata": {},
   "outputs": [
    {
     "ename": "NameError",
     "evalue": "name 'get_detox_expl' is not defined",
     "output_type": "error",
     "traceback": [
      "\u001b[0;31m---------------------------------------------------------------------------\u001b[0m",
      "\u001b[0;31mNameError\u001b[0m                                 Traceback (most recent call last)",
      "Input \u001b[0;32mIn [9]\u001b[0m, in \u001b[0;36m<cell line: 4>\u001b[0;34m()\u001b[0m\n\u001b[1;32m      2\u001b[0m \u001b[38;5;66;03m#pred_explanations = []\u001b[39;00m\n\u001b[1;32m      4\u001b[0m \u001b[38;5;28;01mfor\u001b[39;00m i,gen \u001b[38;5;129;01min\u001b[39;00m \u001b[38;5;28menumerate\u001b[39m(gen_list):\n\u001b[1;32m      5\u001b[0m     \u001b[38;5;66;03m#print(gen[0])\u001b[39;00m\n\u001b[1;32m      6\u001b[0m     \u001b[38;5;66;03m#try:\u001b[39;00m\n\u001b[0;32m----> 7\u001b[0m     pred \u001b[38;5;241m=\u001b[39m \u001b[43mget_detox_expl\u001b[49m(gen[\u001b[38;5;241m0\u001b[39m][\u001b[38;5;124m'\u001b[39m\u001b[38;5;124mgenerated_text\u001b[39m\u001b[38;5;124m'\u001b[39m])\n\u001b[1;32m      8\u001b[0m     predictions\u001b[38;5;241m.\u001b[39mappend(pred)\n\u001b[1;32m      9\u001b[0m     \u001b[38;5;66;03m#pred_explanations.append(expl)\u001b[39;00m\n",
      "\u001b[0;31mNameError\u001b[0m: name 'get_detox_expl' is not defined"
     ]
    }
   ],
   "source": [
    "predictions = []\n",
    "#pred_explanations = []\n",
    "\n",
    "for i,gen in enumerate(gen_list):\n",
    "    #print(gen[0])\n",
    "    #try:\n",
    "    pred = get_detox(gen[0]['generated_text'])\n",
    "    predictions.append(pred)\n",
    "    #pred_explanations.append(expl)\n",
    "    '''except:\n",
    "        print(i)\n",
    "        print(gen[0]['generated_text'])\n",
    "        print(\"******\")'''\n",
    "\n",
    "sources = df_test['toxic'].tolist()\n",
    "references = df_test['non_toxic'].tolist()\n",
    "#ref_explanations = df_test['explanation'].tolist()\n"
   ]
  },
  {
   "cell_type": "code",
   "execution_count": null,
   "id": "26686492-fb4b-4a25-9edc-e779d02c95d1",
   "metadata": {},
   "outputs": [],
   "source": [
    "import os\n",
    "import json\n",
    "\n",
    "output_prediction_file = os.path.join(path, \"Xplatform_generated_predictions.jsonl\")\n",
    "\n",
    "with open(output_prediction_file, \"w\") as writer:             \n",
    "    for src, ref, pred in zip(sources, references, predictions):\n",
    "        output = {\n",
    "            'source': src,\n",
    "            'reference': ref,\n",
    "            'prediction': pred,\n",
    "            #'predicted_explanation': pred_expl,\n",
    "            #'ChatGPT_explanation': ref_expl,\n",
    "        }\n",
    "        json.dump(output, writer)\n",
    "        #writer.write(\"REFERENCES: \"+str(ref))\n",
    "        #writer.write(\"\\nPREDICTION: \"+str(pred))\n",
    "        writer.write(\"\\n\")"
   ]
  },
  {
   "cell_type": "code",
   "execution_count": null,
   "id": "b02d2a28-ccd7-4da9-a793-248f4a72c4b7",
   "metadata": {},
   "outputs": [],
   "source": [
    "import pandas as pd\n",
    "\n",
    "df_predicted = pd.read_json(output_prediction_file, lines=True)\n",
    "\n",
    "df_predicted['index'] = df_predicted.index\n",
    "\n",
    "df_predicted.to_excel(f'{path}/Xplatform_generated_predictions.xlsx', index=False)"
   ]
  },
  {
   "cell_type": "code",
   "execution_count": 3,
   "id": "206c9aa1-9bbd-4feb-94d2-d3b6de1389b9",
   "metadata": {},
   "outputs": [
    {
     "name": "stdout",
     "output_type": "stream",
     "text": [
      "/lustre07/scratch/tawkat/FT_Abusive/Output_Dir/No_Expl_LLama_Chat_7b_1/Llama-2-7b-chat-hf/checkpoint-116\n"
     ]
    }
   ],
   "source": [
    "cd \"Output_Dir/No_Expl_LLama_Chat_7b_1/Llama-2-7b-chat-hf/checkpoint-116\""
   ]
  },
  {
   "cell_type": "code",
   "execution_count": 4,
   "id": "4fc18a1c-ac69-4061-b8b6-d382a9c0d956",
   "metadata": {},
   "outputs": [
    {
     "name": "stdout",
     "output_type": "stream",
     "text": [
      "[2023-08-04 18:04:56,887] [INFO] [real_accelerator.py:110:get_accelerator] Setting ds_accelerator to cuda (auto detect)\n",
      "\n",
      "===================================BUG REPORT===================================\n",
      "Welcome to bitsandbytes. For bug reports, please run\n",
      "\n",
      "python -m bitsandbytes\n",
      "\n",
      " and submit this information together with your error trace to: https://github.com/TimDettmers/bitsandbytes/issues\n",
      "================================================================================\n",
      "bin /home/tawkat/ENV_1/lib/python3.8/site-packages/bitsandbytes/libbitsandbytes_cuda114.so\n",
      "/home/tawkat/ENV_1/lib/python3.8/site-packages/bitsandbytes/cuda_setup/main.py:145: UserWarning: WARNING: The following directories listed in your path were found to be non-existent: {PosixPath('/tmp/tawkat')}\n",
      "  warn(msg)\n",
      "/home/tawkat/ENV_1/lib/python3.8/site-packages/bitsandbytes/cuda_setup/main.py:145: UserWarning: WARNING: The following directories listed in your path were found to be non-existent: {PosixPath('-10')}\n",
      "  warn(msg)\n",
      "/home/tawkat/ENV_1/lib/python3.8/site-packages/bitsandbytes/cuda_setup/main.py:145: UserWarning: WARNING: The following directories listed in your path were found to be non-existent: {PosixPath('/tmp/sshauth.w0FiXbqmXADHzQX')}\n",
      "  warn(msg)\n",
      "/home/tawkat/ENV_1/lib/python3.8/site-packages/bitsandbytes/cuda_setup/main.py:145: UserWarning: WARNING: The following directories listed in your path were found to be non-existent: {PosixPath('1;/cvmfs/soft.computecanada.ca/easybuild/modules/2020/avx2/CUDA/cuda11.4'), PosixPath('1;/cvmfs/soft.computecanada.ca/easybuild/modules/2020/avx2/CUDA/gcc9/cuda11.4'), PosixPath('1;/cvmfs/soft.computecanada.ca/easybuild/modules/2020/avx2/MPI/gcc9/cuda11.4/openmpi4'), PosixPath('1;/home/tawkat/.local/easybuild/modules/2020/Core'), PosixPath('1;/cvmfs/soft.computecanada.ca/easybuild/modules/2020/avx2/Core'), PosixPath('1;/cvmfs/soft.computecanada.ca/easybuild/modules/2020/avx2/Compiler/gcc9'), PosixPath('1'), PosixPath('1;/cvmfs/soft.computecanada.ca/custom/modules'), PosixPath('1;/cvmfs/soft.computecanada.ca/easybuild/modules/2020/Core'), PosixPath('1;/cvmfs/soft.computecanada.ca/easybuild/modules/2020/CUDA/cuda11.4'), PosixPath('1;/home/tawkat/.local/easybuild/modules/2020/avx2/Core')}\n",
      "  warn(msg)\n",
      "/home/tawkat/ENV_1/lib/python3.8/site-packages/bitsandbytes/cuda_setup/main.py:145: UserWarning: WARNING: The following directories listed in your path were found to be non-existent: {PosixPath('pmix-server.1267072;tcp4'), PosixPath('43867'), PosixPath('//127.0.0.1')}\n",
      "  warn(msg)\n",
      "/home/tawkat/ENV_1/lib/python3.8/site-packages/bitsandbytes/cuda_setup/main.py:145: UserWarning: WARNING: The following directories listed in your path were found to be non-existent: {PosixPath('cuda/11.4'), PosixPath('libffi/3.3'), PosixPath('ucx/1.8.0'), PosixPath('gentoo/2020'), PosixPath('libfabric/1.10.1'), PosixPath('ffmpeg/4.3.2'), PosixPath('gcc/9.3.0'), PosixPath('blis/0.8.1'), PosixPath('CCconfig'), PosixPath('cudacore/.11.4.2'), PosixPath('openmpi/4.0.3'), PosixPath('git-lfs/3.3.0'), PosixPath('imkl/2020.1.217'), PosixPath('mii/1.1.2'), PosixPath('gcccore/.9.3.0'), PosixPath('StdEnv/2020'), PosixPath('pmix/3.1.5'), PosixPath('python/3.8.10'), PosixPath('gdrcopy/2.1'), PosixPath('flexiblas/3.0.4'), PosixPath('arrow/9.0.0')}\n",
      "  warn(msg)\n",
      "/home/tawkat/ENV_1/lib/python3.8/site-packages/bitsandbytes/cuda_setup/main.py:145: UserWarning: WARNING: The following directories listed in your path were found to be non-existent: {PosixPath('module'), PosixPath('//matplotlib_inline.backend_inline')}\n",
      "  warn(msg)\n",
      "/home/tawkat/ENV_1/lib/python3.8/site-packages/bitsandbytes/cuda_setup/main.py:145: UserWarning: WARNING: The following directories listed in your path were found to be non-existent: {PosixPath('/home/tawkat/.local/easybuild/modules/2020/Core'), PosixPath('/home/tawkat/.local/easybuild/modules/2020/avx2/Core')}\n",
      "  warn(msg)\n",
      "/home/tawkat/ENV_1/lib/python3.8/site-packages/bitsandbytes/cuda_setup/main.py:145: UserWarning: WARNING: The following directories listed in your path were found to be non-existent: {PosixPath('https'), PosixPath('//debuginfod.centos.org/ ')}\n",
      "  warn(msg)\n",
      "/home/tawkat/ENV_1/lib/python3.8/site-packages/bitsandbytes/cuda_setup/main.py:145: UserWarning: WARNING: The following directories listed in your path were found to be non-existent: {PosixPath('() {  ( alias;\\n eval ${which_declare} ) | /usr/bin/which --tty-only --read-alias --read-functions --show-tilde --show-dot $@\\n}')}\n",
      "  warn(msg)\n",
      "/home/tawkat/ENV_1/lib/python3.8/site-packages/bitsandbytes/cuda_setup/main.py:145: UserWarning: WARNING: The following directories listed in your path were found to be non-existent: {PosixPath('() {  eval \"$($LMOD_DIR/ml_cmd \"$@\")\"\\n}')}\n",
      "  warn(msg)\n",
      "/home/tawkat/ENV_1/lib/python3.8/site-packages/bitsandbytes/cuda_setup/main.py:145: UserWarning: Found duplicate ['libcudart.so', 'libcudart.so.11.0', 'libcudart.so.12.0'] files: {PosixPath('/cvmfs/soft.computecanada.ca/easybuild/software/2020/Core/cudacore/11.4.2/lib/libcudart.so.11.0'), PosixPath('/cvmfs/soft.computecanada.ca/easybuild/software/2020/Core/cudacore/11.4.2/lib/libcudart.so')}.. We'll flip a coin and try one of these, in order to fail forward.\n",
      "Either way, this might cause trouble in the future:\n",
      "If you get `CUDA error: invalid device function` errors, the above might be the cause and the solution is to make sure only one ['libcudart.so', 'libcudart.so.11.0', 'libcudart.so.12.0'] in the paths that we search based on your env.\n",
      "  warn(msg)\n",
      "CUDA SETUP: CUDA runtime path found: /cvmfs/soft.computecanada.ca/easybuild/software/2020/Core/cudacore/11.4.2/lib/libcudart.so.11.0\n",
      "CUDA SETUP: Highest compute capability among GPUs detected: 8.0\n",
      "CUDA SETUP: Detected CUDA version 114\n",
      "CUDA SETUP: Loading binary /home/tawkat/ENV_1/lib/python3.8/site-packages/bitsandbytes/libbitsandbytes_cuda114.so...\n",
      "Processing zero checkpoint './global_step116'\n",
      "Detected checkpoint of type zero stage 3, world_size: 4\n",
      "Parsing checkpoint created by deepspeed==0.9.5\n",
      "Reconstructed Trainable fp32 state dict with 291 params 6738423808 elements\n",
      "Saving fp32 state dict to pytorch_model.bin\n"
     ]
    }
   ],
   "source": [
    "!python ./zero_to_fp32.py . pytorch_model.bin"
   ]
  },
  {
   "cell_type": "code",
   "execution_count": 7,
   "id": "93143cbb-ea1c-4da5-84a6-2f535a5a2dae",
   "metadata": {},
   "outputs": [
    {
     "name": "stdout",
     "output_type": "stream",
     "text": [
      "\n",
      "The following have been reloaded with a version change:\n",
      "  1) python/3.8.10 => python/3.10.2\n",
      "\n",
      "\n",
      "The following have been reloaded with a version change:\n",
      "  1) arrow/9.0.0 => arrow/11.0.0\n",
      "\n",
      "\n",
      "Inactive Modules:\n",
      "  1) gdrcopy/2.1\n",
      "\n",
      "Due to MODULEPATH changes, the following have been reloaded:\n",
      "  1) arrow/11.0.0     2) libfabric/1.10.1     3) openmpi/4.0.3     4) ucx/1.8.0\n",
      "\n",
      "The following have been reloaded with a version change:\n",
      "  1) cuda/11.4 => cuda/11.1.1     2) cudacore/.11.4.2 => cudacore/.11.1.1\n",
      "\n",
      "\n",
      "===================================BUG REPORT===================================\n",
      "Welcome to bitsandbytes. For bug reports, please run\n",
      "\n",
      "python -m bitsandbytes\n",
      "\n",
      " and submit this information together with your error trace to: https://github.com/TimDettmers/bitsandbytes/issues\n",
      "================================================================================\n",
      "bin /home/tawkat/ENV_1/lib/python3.8/site-packages/bitsandbytes/libbitsandbytes_cuda111.so\n",
      "/home/tawkat/ENV_1/lib/python3.8/site-packages/bitsandbytes/cuda_setup/main.py:145: UserWarning: WARNING: The following directories listed in your path were found to be non-existent: {PosixPath('/tmp/tawkat')}\n",
      "  warn(msg)\n",
      "/home/tawkat/ENV_1/lib/python3.8/site-packages/bitsandbytes/cuda_setup/main.py:145: UserWarning: WARNING: The following directories listed in your path were found to be non-existent: {PosixPath('-10')}\n",
      "  warn(msg)\n",
      "/home/tawkat/ENV_1/lib/python3.8/site-packages/bitsandbytes/cuda_setup/main.py:145: UserWarning: WARNING: The following directories listed in your path were found to be non-existent: {PosixPath('/tmp/sshauth.w0FiXbqmXADHzQX')}\n",
      "  warn(msg)\n",
      "/home/tawkat/ENV_1/lib/python3.8/site-packages/bitsandbytes/cuda_setup/main.py:145: UserWarning: WARNING: The following directories listed in your path were found to be non-existent: {PosixPath('1;/cvmfs/soft.computecanada.ca/easybuild/modules/2020/CUDA/cuda11.1'), PosixPath('1;/home/tawkat/.local/easybuild/modules/2020/avx2/Core'), PosixPath('1;/cvmfs/soft.computecanada.ca/easybuild/modules/2020/avx2/Core'), PosixPath('1;/cvmfs/soft.computecanada.ca/easybuild/modules/2020/avx2/Compiler/gcc9'), PosixPath('1;/cvmfs/soft.computecanada.ca/easybuild/modules/2020/Core'), PosixPath('1;/cvmfs/soft.computecanada.ca/easybuild/modules/2020/avx2/CUDA/gcc9/cuda11.1'), PosixPath('1'), PosixPath('1;/cvmfs/soft.computecanada.ca/custom/modules'), PosixPath('1;/cvmfs/soft.computecanada.ca/easybuild/modules/2020/avx2/CUDA/cuda11.1'), PosixPath('1;/home/tawkat/.local/easybuild/modules/2020/Core'), PosixPath('1;/cvmfs/soft.computecanada.ca/easybuild/modules/2020/avx2/MPI/gcc9/openmpi4')}\n",
      "  warn(msg)\n",
      "/home/tawkat/ENV_1/lib/python3.8/site-packages/bitsandbytes/cuda_setup/main.py:145: UserWarning: WARNING: The following directories listed in your path were found to be non-existent: {PosixPath('//127.0.0.1'), PosixPath('59311'), PosixPath('pmix-server.54455;tcp4')}\n",
      "  warn(msg)\n",
      "/home/tawkat/ENV_1/lib/python3.8/site-packages/bitsandbytes/cuda_setup/main.py:145: UserWarning: WARNING: The following directories listed in your path were found to be non-existent: {PosixPath('gcc/9.3.0'), PosixPath('arrow/11.0.0'), PosixPath('cudnn/8.2.0'), PosixPath('gcccore/.9.3.0'), PosixPath('imkl/2020.1.217'), PosixPath('cudacore/.11.1.1'), PosixPath('python/3.10.2'), PosixPath('scipy-stack/2023a'), PosixPath('CCconfig'), PosixPath('flexiblas/3.0.4'), PosixPath('cuda/11.1.1'), PosixPath('pmix/3.1.5'), PosixPath('openmpi/4.0.3'), PosixPath('git-lfs/3.3.0'), PosixPath('gentoo/2020'), PosixPath('ucx/1.8.0'), PosixPath('StdEnv/2020'), PosixPath('libfabric/1.10.1'), PosixPath('ffmpeg/4.3.2'), PosixPath('ipykernel/2023a'), PosixPath('libffi/3.3'), PosixPath('blis/0.8.1'), PosixPath('mii/1.1.2')}\n",
      "  warn(msg)\n",
      "/home/tawkat/ENV_1/lib/python3.8/site-packages/bitsandbytes/cuda_setup/main.py:145: UserWarning: WARNING: The following directories listed in your path were found to be non-existent: {PosixPath('module'), PosixPath('//matplotlib_inline.backend_inline')}\n",
      "  warn(msg)\n",
      "/home/tawkat/ENV_1/lib/python3.8/site-packages/bitsandbytes/cuda_setup/main.py:145: UserWarning: WARNING: The following directories listed in your path were found to be non-existent: {PosixPath('/cvmfs/soft.computecanada.ca/easybuild/modules/2020/avx2/CUDA/cuda11.1'), PosixPath('/home/tawkat/.local/easybuild/modules/2020/avx2/Core'), PosixPath('/cvmfs/soft.computecanada.ca/easybuild/modules/2020/avx2/CUDA/gcc9/cuda11.1'), PosixPath('/home/tawkat/.local/easybuild/modules/2020/Core')}\n",
      "  warn(msg)\n",
      "/home/tawkat/ENV_1/lib/python3.8/site-packages/bitsandbytes/cuda_setup/main.py:145: UserWarning: WARNING: The following directories listed in your path were found to be non-existent: {PosixPath('https'), PosixPath('//debuginfod.centos.org/ ')}\n",
      "  warn(msg)\n",
      "/home/tawkat/ENV_1/lib/python3.8/site-packages/bitsandbytes/cuda_setup/main.py:145: UserWarning: WARNING: The following directories listed in your path were found to be non-existent: {PosixPath('() {  ( alias;\\n eval ${which_declare} ) | /usr/bin/which --tty-only --read-alias --read-functions --show-tilde --show-dot $@\\n}')}\n",
      "  warn(msg)\n",
      "/home/tawkat/ENV_1/lib/python3.8/site-packages/bitsandbytes/cuda_setup/main.py:145: UserWarning: WARNING: The following directories listed in your path were found to be non-existent: {PosixPath('() {  eval \"$($LMOD_DIR/ml_cmd \"$@\")\"\\n}')}\n",
      "  warn(msg)\n",
      "/home/tawkat/ENV_1/lib/python3.8/site-packages/bitsandbytes/cuda_setup/main.py:145: UserWarning: Found duplicate ['libcudart.so', 'libcudart.so.11.0', 'libcudart.so.12.0'] files: {PosixPath('/cvmfs/soft.computecanada.ca/easybuild/software/2020/Core/cudacore/11.1.1/lib/libcudart.so'), PosixPath('/cvmfs/soft.computecanada.ca/easybuild/software/2020/Core/cudacore/11.1.1/lib/libcudart.so.11.0')}.. We'll flip a coin and try one of these, in order to fail forward.\n",
      "Either way, this might cause trouble in the future:\n",
      "If you get `CUDA error: invalid device function` errors, the above might be the cause and the solution is to make sure only one ['libcudart.so', 'libcudart.so.11.0', 'libcudart.so.12.0'] in the paths that we search based on your env.\n",
      "  warn(msg)\n",
      "CUDA SETUP: CUDA runtime path found: /cvmfs/soft.computecanada.ca/easybuild/software/2020/Core/cudacore/11.1.1/lib/libcudart.so\n",
      "CUDA SETUP: Highest compute capability among GPUs detected: 8.0\n",
      "CUDA SETUP: Detected CUDA version 111\n",
      "CUDA SETUP: Loading binary /home/tawkat/ENV_1/lib/python3.8/site-packages/bitsandbytes/libbitsandbytes_cuda111.so...\n",
      "[2023-08-04 22:00:45,278] [INFO] [real_accelerator.py:110:get_accelerator] Setting ds_accelerator to cuda (auto detect)\n",
      "ParaDetox\n",
      "*** CREATING new Excel file ... ***\n",
      "***** CHECKPOINT: checkpoint-58  *******\n",
      "normalizer.cc(51) LOG(INFO) precompiled_charsmap is empty. use identity normalization.\n",
      "Loading checkpoint shards: 100%|██████████████████| 3/3 [01:36<00:00, 32.24s/it]\n",
      "A matching Triton is not available, some optimizations will not be enabled.\n",
      "Error caught was: No module named 'triton'\n",
      "/home/tawkat/ENV_1/lib/python3.8/site-packages/nltk/translate/bleu_score.py:552: UserWarning: \n",
      "The hypothesis contains 0 counts of 4-gram overlaps.\n",
      "Therefore the BLEU score evaluates to 0, independently of\n",
      "how many N-gram overlaps of lower order it contains.\n",
      "Consider using lower n-gram order or use SmoothingFunction()\n",
      "  warnings.warn(_msg)\n",
      "*** Saving file at: Output_Dir/No_Expl_LLama_Chat_7b_1/Llama-2-7b-chat-hf/results_ParaDetox.xlsx ***\n",
      "***** BLEU: 0.29262951867949205 *****\n",
      "\n",
      "===================================BUG REPORT===================================\n",
      "Welcome to bitsandbytes. For bug reports, please run\n",
      "\n",
      "python -m bitsandbytes\n",
      "\n",
      " and submit this information together with your error trace to: https://github.com/TimDettmers/bitsandbytes/issues\n",
      "================================================================================\n",
      "bin /home/tawkat/ENV_1/lib/python3.8/site-packages/bitsandbytes/libbitsandbytes_cuda111.so\n",
      "/home/tawkat/ENV_1/lib/python3.8/site-packages/bitsandbytes/cuda_setup/main.py:145: UserWarning: WARNING: The following directories listed in your path were found to be non-existent: {PosixPath('/tmp/tawkat')}\n",
      "  warn(msg)\n",
      "/home/tawkat/ENV_1/lib/python3.8/site-packages/bitsandbytes/cuda_setup/main.py:145: UserWarning: WARNING: The following directories listed in your path were found to be non-existent: {PosixPath('-10')}\n",
      "  warn(msg)\n",
      "/home/tawkat/ENV_1/lib/python3.8/site-packages/bitsandbytes/cuda_setup/main.py:145: UserWarning: WARNING: The following directories listed in your path were found to be non-existent: {PosixPath('/tmp/sshauth.w0FiXbqmXADHzQX')}\n",
      "  warn(msg)\n",
      "/home/tawkat/ENV_1/lib/python3.8/site-packages/bitsandbytes/cuda_setup/main.py:145: UserWarning: WARNING: The following directories listed in your path were found to be non-existent: {PosixPath('1;/cvmfs/soft.computecanada.ca/easybuild/modules/2020/Core'), PosixPath('1;/home/tawkat/.local/easybuild/modules/2020/Core'), PosixPath('1'), PosixPath('1;/home/tawkat/.local/easybuild/modules/2020/avx2/Core'), PosixPath('1;/cvmfs/soft.computecanada.ca/easybuild/modules/2020/CUDA/cuda11.1'), PosixPath('1;/cvmfs/soft.computecanada.ca/easybuild/modules/2020/avx2/CUDA/cuda11.1'), PosixPath('1;/cvmfs/soft.computecanada.ca/easybuild/modules/2020/avx2/CUDA/gcc9/cuda11.1'), PosixPath('1;/cvmfs/soft.computecanada.ca/easybuild/modules/2020/avx2/Core'), PosixPath('1;/cvmfs/soft.computecanada.ca/custom/modules'), PosixPath('1;/cvmfs/soft.computecanada.ca/easybuild/modules/2020/avx2/Compiler/gcc9'), PosixPath('1;/cvmfs/soft.computecanada.ca/easybuild/modules/2020/avx2/MPI/gcc9/openmpi4')}\n",
      "  warn(msg)\n",
      "/home/tawkat/ENV_1/lib/python3.8/site-packages/bitsandbytes/cuda_setup/main.py:145: UserWarning: WARNING: The following directories listed in your path were found to be non-existent: {PosixPath('//127.0.0.1'), PosixPath('pmix-server.54455;tcp4'), PosixPath('59311')}\n",
      "  warn(msg)\n",
      "/home/tawkat/ENV_1/lib/python3.8/site-packages/bitsandbytes/cuda_setup/main.py:145: UserWarning: WARNING: The following directories listed in your path were found to be non-existent: {PosixPath('imkl/2020.1.217'), PosixPath('cudnn/8.2.0'), PosixPath('blis/0.8.1'), PosixPath('cudacore/.11.1.1'), PosixPath('ucx/1.8.0'), PosixPath('arrow/11.0.0'), PosixPath('gcccore/.9.3.0'), PosixPath('libffi/3.3'), PosixPath('mii/1.1.2'), PosixPath('flexiblas/3.0.4'), PosixPath('StdEnv/2020'), PosixPath('python/3.10.2'), PosixPath('gentoo/2020'), PosixPath('cuda/11.1.1'), PosixPath('ffmpeg/4.3.2'), PosixPath('git-lfs/3.3.0'), PosixPath('pmix/3.1.5'), PosixPath('CCconfig'), PosixPath('ipykernel/2023a'), PosixPath('libfabric/1.10.1'), PosixPath('scipy-stack/2023a'), PosixPath('openmpi/4.0.3'), PosixPath('gcc/9.3.0')}\n",
      "  warn(msg)\n",
      "/home/tawkat/ENV_1/lib/python3.8/site-packages/bitsandbytes/cuda_setup/main.py:145: UserWarning: WARNING: The following directories listed in your path were found to be non-existent: {PosixPath('//matplotlib_inline.backend_inline'), PosixPath('module')}\n",
      "  warn(msg)\n",
      "/home/tawkat/ENV_1/lib/python3.8/site-packages/bitsandbytes/cuda_setup/main.py:145: UserWarning: WARNING: The following directories listed in your path were found to be non-existent: {PosixPath('/cvmfs/soft.computecanada.ca/easybuild/modules/2020/avx2/CUDA/gcc9/cuda11.1'), PosixPath('/cvmfs/soft.computecanada.ca/easybuild/modules/2020/avx2/CUDA/cuda11.1'), PosixPath('/home/tawkat/.local/easybuild/modules/2020/Core'), PosixPath('/home/tawkat/.local/easybuild/modules/2020/avx2/Core')}\n",
      "  warn(msg)\n",
      "/home/tawkat/ENV_1/lib/python3.8/site-packages/bitsandbytes/cuda_setup/main.py:145: UserWarning: WARNING: The following directories listed in your path were found to be non-existent: {PosixPath('https'), PosixPath('//debuginfod.centos.org/ ')}\n",
      "  warn(msg)\n",
      "/home/tawkat/ENV_1/lib/python3.8/site-packages/bitsandbytes/cuda_setup/main.py:145: UserWarning: WARNING: The following directories listed in your path were found to be non-existent: {PosixPath('() {  ( alias;\\n eval ${which_declare} ) | /usr/bin/which --tty-only --read-alias --read-functions --show-tilde --show-dot $@\\n}')}\n",
      "  warn(msg)\n",
      "/home/tawkat/ENV_1/lib/python3.8/site-packages/bitsandbytes/cuda_setup/main.py:145: UserWarning: WARNING: The following directories listed in your path were found to be non-existent: {PosixPath('() {  eval \"$($LMOD_DIR/ml_cmd \"$@\")\"\\n}')}\n",
      "  warn(msg)\n",
      "/home/tawkat/ENV_1/lib/python3.8/site-packages/bitsandbytes/cuda_setup/main.py:145: UserWarning: Found duplicate ['libcudart.so', 'libcudart.so.11.0', 'libcudart.so.12.0'] files: {PosixPath('/cvmfs/soft.computecanada.ca/easybuild/software/2020/Core/cudacore/11.1.1/lib/libcudart.so'), PosixPath('/cvmfs/soft.computecanada.ca/easybuild/software/2020/Core/cudacore/11.1.1/lib/libcudart.so.11.0')}.. We'll flip a coin and try one of these, in order to fail forward.\n",
      "Either way, this might cause trouble in the future:\n",
      "If you get `CUDA error: invalid device function` errors, the above might be the cause and the solution is to make sure only one ['libcudart.so', 'libcudart.so.11.0', 'libcudart.so.12.0'] in the paths that we search based on your env.\n",
      "  warn(msg)\n",
      "CUDA SETUP: CUDA runtime path found: /cvmfs/soft.computecanada.ca/easybuild/software/2020/Core/cudacore/11.1.1/lib/libcudart.so\n",
      "CUDA SETUP: Highest compute capability among GPUs detected: 8.0\n",
      "CUDA SETUP: Detected CUDA version 111\n",
      "CUDA SETUP: Loading binary /home/tawkat/ENV_1/lib/python3.8/site-packages/bitsandbytes/libbitsandbytes_cuda111.so...\n",
      "[2023-08-04 22:03:08,900] [INFO] [real_accelerator.py:110:get_accelerator] Setting ds_accelerator to cuda (auto detect)\n",
      "ParaDetox\n",
      "*** LOADING EXISTING Resulting file ***\n",
      "***** CHECKPOINT: checkpoint-116  *******\n",
      "normalizer.cc(51) LOG(INFO) precompiled_charsmap is empty. use identity normalization.\n",
      "A matching Triton is not available, some optimizations will not be enabled.\n",
      "Error caught was: No module named 'triton'\n",
      "*** Saving file at: Output_Dir/No_Expl_LLama_Chat_7b_1/Llama-2-7b-chat-hf/results_ParaDetox.xlsx ***\n",
      "***** BLEU: 0.396596569325243 *****\n",
      "\n",
      "===================================BUG REPORT===================================\n",
      "Welcome to bitsandbytes. For bug reports, please run\n",
      "\n",
      "python -m bitsandbytes\n",
      "\n",
      " and submit this information together with your error trace to: https://github.com/TimDettmers/bitsandbytes/issues\n",
      "================================================================================\n",
      "bin /home/tawkat/ENV_1/lib/python3.8/site-packages/bitsandbytes/libbitsandbytes_cuda111.so\n",
      "/home/tawkat/ENV_1/lib/python3.8/site-packages/bitsandbytes/cuda_setup/main.py:145: UserWarning: WARNING: The following directories listed in your path were found to be non-existent: {PosixPath('/tmp/tawkat')}\n",
      "  warn(msg)\n",
      "/home/tawkat/ENV_1/lib/python3.8/site-packages/bitsandbytes/cuda_setup/main.py:145: UserWarning: WARNING: The following directories listed in your path were found to be non-existent: {PosixPath('-10')}\n",
      "  warn(msg)\n",
      "/home/tawkat/ENV_1/lib/python3.8/site-packages/bitsandbytes/cuda_setup/main.py:145: UserWarning: WARNING: The following directories listed in your path were found to be non-existent: {PosixPath('/tmp/sshauth.w0FiXbqmXADHzQX')}\n",
      "  warn(msg)\n",
      "/home/tawkat/ENV_1/lib/python3.8/site-packages/bitsandbytes/cuda_setup/main.py:145: UserWarning: WARNING: The following directories listed in your path were found to be non-existent: {PosixPath('1;/cvmfs/soft.computecanada.ca/easybuild/modules/2020/avx2/Compiler/gcc9'), PosixPath('1;/cvmfs/soft.computecanada.ca/easybuild/modules/2020/avx2/Core'), PosixPath('1'), PosixPath('1;/cvmfs/soft.computecanada.ca/easybuild/modules/2020/avx2/MPI/gcc9/openmpi4'), PosixPath('1;/cvmfs/soft.computecanada.ca/easybuild/modules/2020/avx2/CUDA/gcc9/cuda11.1'), PosixPath('1;/cvmfs/soft.computecanada.ca/easybuild/modules/2020/avx2/CUDA/cuda11.1'), PosixPath('1;/cvmfs/soft.computecanada.ca/easybuild/modules/2020/CUDA/cuda11.1'), PosixPath('1;/home/tawkat/.local/easybuild/modules/2020/avx2/Core'), PosixPath('1;/cvmfs/soft.computecanada.ca/easybuild/modules/2020/Core'), PosixPath('1;/home/tawkat/.local/easybuild/modules/2020/Core'), PosixPath('1;/cvmfs/soft.computecanada.ca/custom/modules')}\n",
      "  warn(msg)\n",
      "/home/tawkat/ENV_1/lib/python3.8/site-packages/bitsandbytes/cuda_setup/main.py:145: UserWarning: WARNING: The following directories listed in your path were found to be non-existent: {PosixPath('//127.0.0.1'), PosixPath('59311'), PosixPath('pmix-server.54455;tcp4')}\n",
      "  warn(msg)\n",
      "/home/tawkat/ENV_1/lib/python3.8/site-packages/bitsandbytes/cuda_setup/main.py:145: UserWarning: WARNING: The following directories listed in your path were found to be non-existent: {PosixPath('imkl/2020.1.217'), PosixPath('arrow/11.0.0'), PosixPath('gcc/9.3.0'), PosixPath('flexiblas/3.0.4'), PosixPath('gcccore/.9.3.0'), PosixPath('cudacore/.11.1.1'), PosixPath('StdEnv/2020'), PosixPath('scipy-stack/2023a'), PosixPath('blis/0.8.1'), PosixPath('cudnn/8.2.0'), PosixPath('ucx/1.8.0'), PosixPath('libffi/3.3'), PosixPath('cuda/11.1.1'), PosixPath('pmix/3.1.5'), PosixPath('ffmpeg/4.3.2'), PosixPath('libfabric/1.10.1'), PosixPath('mii/1.1.2'), PosixPath('CCconfig'), PosixPath('openmpi/4.0.3'), PosixPath('git-lfs/3.3.0'), PosixPath('python/3.10.2'), PosixPath('gentoo/2020'), PosixPath('ipykernel/2023a')}\n",
      "  warn(msg)\n",
      "/home/tawkat/ENV_1/lib/python3.8/site-packages/bitsandbytes/cuda_setup/main.py:145: UserWarning: WARNING: The following directories listed in your path were found to be non-existent: {PosixPath('//matplotlib_inline.backend_inline'), PosixPath('module')}\n",
      "  warn(msg)\n",
      "/home/tawkat/ENV_1/lib/python3.8/site-packages/bitsandbytes/cuda_setup/main.py:145: UserWarning: WARNING: The following directories listed in your path were found to be non-existent: {PosixPath('/home/tawkat/.local/easybuild/modules/2020/avx2/Core'), PosixPath('/cvmfs/soft.computecanada.ca/easybuild/modules/2020/avx2/CUDA/gcc9/cuda11.1'), PosixPath('/cvmfs/soft.computecanada.ca/easybuild/modules/2020/avx2/CUDA/cuda11.1'), PosixPath('/home/tawkat/.local/easybuild/modules/2020/Core')}\n",
      "  warn(msg)\n",
      "/home/tawkat/ENV_1/lib/python3.8/site-packages/bitsandbytes/cuda_setup/main.py:145: UserWarning: WARNING: The following directories listed in your path were found to be non-existent: {PosixPath('https'), PosixPath('//debuginfod.centos.org/ ')}\n",
      "  warn(msg)\n",
      "/home/tawkat/ENV_1/lib/python3.8/site-packages/bitsandbytes/cuda_setup/main.py:145: UserWarning: WARNING: The following directories listed in your path were found to be non-existent: {PosixPath('() {  ( alias;\\n eval ${which_declare} ) | /usr/bin/which --tty-only --read-alias --read-functions --show-tilde --show-dot $@\\n}')}\n",
      "  warn(msg)\n",
      "/home/tawkat/ENV_1/lib/python3.8/site-packages/bitsandbytes/cuda_setup/main.py:145: UserWarning: WARNING: The following directories listed in your path were found to be non-existent: {PosixPath('() {  eval \"$($LMOD_DIR/ml_cmd \"$@\")\"\\n}')}\n",
      "  warn(msg)\n",
      "/home/tawkat/ENV_1/lib/python3.8/site-packages/bitsandbytes/cuda_setup/main.py:145: UserWarning: Found duplicate ['libcudart.so', 'libcudart.so.11.0', 'libcudart.so.12.0'] files: {PosixPath('/cvmfs/soft.computecanada.ca/easybuild/software/2020/Core/cudacore/11.1.1/lib/libcudart.so'), PosixPath('/cvmfs/soft.computecanada.ca/easybuild/software/2020/Core/cudacore/11.1.1/lib/libcudart.so.11.0')}.. We'll flip a coin and try one of these, in order to fail forward.\n",
      "Either way, this might cause trouble in the future:\n",
      "If you get `CUDA error: invalid device function` errors, the above might be the cause and the solution is to make sure only one ['libcudart.so', 'libcudart.so.11.0', 'libcudart.so.12.0'] in the paths that we search based on your env.\n",
      "  warn(msg)\n",
      "CUDA SETUP: CUDA runtime path found: /cvmfs/soft.computecanada.ca/easybuild/software/2020/Core/cudacore/11.1.1/lib/libcudart.so\n",
      "CUDA SETUP: Highest compute capability among GPUs detected: 8.0\n",
      "CUDA SETUP: Detected CUDA version 111\n",
      "CUDA SETUP: Loading binary /home/tawkat/ENV_1/lib/python3.8/site-packages/bitsandbytes/libbitsandbytes_cuda111.so...\n",
      "[2023-08-04 22:05:19,070] [INFO] [real_accelerator.py:110:get_accelerator] Setting ds_accelerator to cuda (auto detect)\n",
      "ParaDetox\n",
      "*** LOADING EXISTING Resulting file ***\n",
      "***** CHECKPOINT: checkpoint-174  *******\n",
      "normalizer.cc(51) LOG(INFO) precompiled_charsmap is empty. use identity normalization.\n",
      "Loading checkpoint shards:   0%|                          | 0/3 [00:00<?, ?it/s]^C\n",
      "Loading checkpoint shards:   0%|                          | 0/3 [00:18<?, ?it/s]\n",
      "Traceback (most recent call last):\n",
      "  File \"./Generate_Detox.py\", line 80, in <module>\n",
      "    model = LlamaForCausalLM.from_pretrained(path)\n",
      "  File \"/home/tawkat/ENV_1/lib/python3.8/site-packages/transformers/modeling_utils.py\", line 2903, in from_pretrained\n",
      "    ) = cls._load_pretrained_model(\n",
      "  File \"/home/tawkat/ENV_1/lib/python3.8/site-packages/transformers/modeling_utils.py\", line 3246, in _load_pretrained_model\n",
      "    state_dict = load_state_dict(shard_file)\n",
      "  File \"/home/tawkat/ENV_1/lib/python3.8/site-packages/transformers/modeling_utils.py\", line 460, in load_state_dict\n",
      "    return torch.load(checkpoint_file, map_location=\"cpu\")\n",
      "  File \"/home/tawkat/ENV_1/lib/python3.8/site-packages/torch/serialization.py\", line 789, in load\n",
      "    return _load(opened_zipfile, map_location, pickle_module, **pickle_load_args)\n",
      "  File \"/home/tawkat/ENV_1/lib/python3.8/site-packages/torch/serialization.py\", line 1131, in _load\n",
      "    result = unpickler.load()\n",
      "  File \"/home/tawkat/ENV_1/lib/python3.8/site-packages/torch/serialization.py\", line 1101, in persistent_load\n",
      "    load_tensor(dtype, nbytes, key, _maybe_decode_ascii(location))\n",
      "  File \"/home/tawkat/ENV_1/lib/python3.8/site-packages/torch/serialization.py\", line 1079, in load_tensor\n",
      "    storage = zip_file.get_storage_from_record(name, numel, torch.UntypedStorage).storage().untyped()\n",
      "KeyboardInterrupt\n"
     ]
    }
   ],
   "source": [
    "!./Gen_run_python.sh"
   ]
  },
  {
   "cell_type": "code",
   "execution_count": null,
   "id": "4b7a3465-b7e1-4f3f-8132-7593547feaec",
   "metadata": {},
   "outputs": [],
   "source": []
  }
 ],
 "metadata": {
  "kernelspec": {
   "display_name": "Python 3 (ipykernel)",
   "language": "python",
   "name": "python3"
  },
  "language_info": {
   "codemirror_mode": {
    "name": "ipython",
    "version": 3
   },
   "file_extension": ".py",
   "mimetype": "text/x-python",
   "name": "python",
   "nbconvert_exporter": "python",
   "pygments_lexer": "ipython3",
   "version": "3.8.10"
  }
 },
 "nbformat": 4,
 "nbformat_minor": 5
}
